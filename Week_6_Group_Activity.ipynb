{
 "cells": [
  {
   "cell_type": "markdown",
   "id": "4fe8907a",
   "metadata": {},
   "source": [
    "#                                               Week 6 Group Activity"
   ]
  },
  {
   "cell_type": "markdown",
   "id": "c1f158f5",
   "metadata": {},
   "source": [
    "1. Import jeopardy.csv and create a dataframe from the data. Find out the following:\n",
    "\n",
    "    a. How many rows are there in the dataframe? What does a row represent in this dataset? What is the “grain”?\n",
    "\n",
    "    b. Clean the data. How do you need to “clean” it? What is “dirty” about this data?\n",
    "\n",
    "    c. How many unique shows were there each year?\n",
    "\n",
    "    d. How many times was each category used?\n",
    "\n",
    "    e. Which month (over the years) has had the most shows?\n",
    "\n",
    "    f. Are there any answers that appeared multiple times? Find the questions for the top three most common answers"
   ]
  },
  {
   "cell_type": "code",
   "execution_count": 1,
   "id": "2d58097c",
   "metadata": {},
   "outputs": [],
   "source": [
    "import pandas as pd"
   ]
  },
  {
   "cell_type": "code",
   "execution_count": 2,
   "id": "c010507c",
   "metadata": {},
   "outputs": [
    {
     "data": {
      "text/html": [
       "<div>\n",
       "<style scoped>\n",
       "    .dataframe tbody tr th:only-of-type {\n",
       "        vertical-align: middle;\n",
       "    }\n",
       "\n",
       "    .dataframe tbody tr th {\n",
       "        vertical-align: top;\n",
       "    }\n",
       "\n",
       "    .dataframe thead th {\n",
       "        text-align: right;\n",
       "    }\n",
       "</style>\n",
       "<table border=\"1\" class=\"dataframe\">\n",
       "  <thead>\n",
       "    <tr style=\"text-align: right;\">\n",
       "      <th></th>\n",
       "      <th>Show Number</th>\n",
       "      <th>Air Date</th>\n",
       "      <th>Round</th>\n",
       "      <th>Category</th>\n",
       "      <th>Value</th>\n",
       "      <th>Question</th>\n",
       "      <th>Answer</th>\n",
       "    </tr>\n",
       "  </thead>\n",
       "  <tbody>\n",
       "    <tr>\n",
       "      <th>0</th>\n",
       "      <td>4680</td>\n",
       "      <td>12/31/2004</td>\n",
       "      <td>Jeopardy!</td>\n",
       "      <td>HISTORY</td>\n",
       "      <td>$200</td>\n",
       "      <td>For the last 8 years of his life, Galileo was ...</td>\n",
       "      <td>Copernicus</td>\n",
       "    </tr>\n",
       "    <tr>\n",
       "      <th>1</th>\n",
       "      <td>4680</td>\n",
       "      <td>12/31/2004</td>\n",
       "      <td>Jeopardy!</td>\n",
       "      <td>ESPN's TOP 10 ALL-TIME ATHLETES</td>\n",
       "      <td>$200</td>\n",
       "      <td>No. 2: 1912 Olympian; football star at Carlisl...</td>\n",
       "      <td>Jim Thorpe</td>\n",
       "    </tr>\n",
       "    <tr>\n",
       "      <th>2</th>\n",
       "      <td>4680</td>\n",
       "      <td>12/31/2004</td>\n",
       "      <td>Jeopardy!</td>\n",
       "      <td>EVERYBODY TALKS ABOUT IT...</td>\n",
       "      <td>$200</td>\n",
       "      <td>The city of Yuma in this state has a record av...</td>\n",
       "      <td>Arizona</td>\n",
       "    </tr>\n",
       "    <tr>\n",
       "      <th>3</th>\n",
       "      <td>4680</td>\n",
       "      <td>12/31/2004</td>\n",
       "      <td>Jeopardy!</td>\n",
       "      <td>THE COMPANY LINE</td>\n",
       "      <td>$200</td>\n",
       "      <td>In 1963, live on \"The Art Linkletter Show\", th...</td>\n",
       "      <td>McDonald's</td>\n",
       "    </tr>\n",
       "    <tr>\n",
       "      <th>4</th>\n",
       "      <td>4680</td>\n",
       "      <td>12/31/2004</td>\n",
       "      <td>Jeopardy!</td>\n",
       "      <td>EPITAPHS &amp; TRIBUTES</td>\n",
       "      <td>$200</td>\n",
       "      <td>Signer of the Dec. of Indep., framer of the Co...</td>\n",
       "      <td>John Adams</td>\n",
       "    </tr>\n",
       "  </tbody>\n",
       "</table>\n",
       "</div>"
      ],
      "text/plain": [
       "   Show Number    Air Date      Round                         Category  Value  \\\n",
       "0         4680  12/31/2004  Jeopardy!                          HISTORY  $200    \n",
       "1         4680  12/31/2004  Jeopardy!  ESPN's TOP 10 ALL-TIME ATHLETES  $200    \n",
       "2         4680  12/31/2004  Jeopardy!      EVERYBODY TALKS ABOUT IT...  $200    \n",
       "3         4680  12/31/2004  Jeopardy!                 THE COMPANY LINE  $200    \n",
       "4         4680  12/31/2004  Jeopardy!              EPITAPHS & TRIBUTES  $200    \n",
       "\n",
       "                                            Question      Answer  \n",
       "0  For the last 8 years of his life, Galileo was ...  Copernicus  \n",
       "1  No. 2: 1912 Olympian; football star at Carlisl...  Jim Thorpe  \n",
       "2  The city of Yuma in this state has a record av...     Arizona  \n",
       "3  In 1963, live on \"The Art Linkletter Show\", th...  McDonald's  \n",
       "4  Signer of the Dec. of Indep., framer of the Co...  John Adams  "
      ]
     },
     "execution_count": 2,
     "metadata": {},
     "output_type": "execute_result"
    }
   ],
   "source": [
    "jeopardy = pd.read_csv(\"JEOPARDY_CSV.csv\")\n",
    "\n",
    "jeopardy.head()"
   ]
  },
  {
   "cell_type": "markdown",
   "id": "c75e7f47",
   "metadata": {},
   "source": [
    "#### a. How many rows are there in the dataframe? What does a row represent in this dataset? What is the “grain”?"
   ]
  },
  {
   "cell_type": "code",
   "execution_count": 15,
   "id": "787a2645",
   "metadata": {},
   "outputs": [
    {
     "data": {
      "text/plain": [
       "Show Number    216930\n",
       " Air Date      216930\n",
       " Round         216930\n",
       " Category      216930\n",
       " Value         216930\n",
       " Question      216930\n",
       " Answer        216928\n",
       "dtype: int64"
      ]
     },
     "execution_count": 15,
     "metadata": {},
     "output_type": "execute_result"
    }
   ],
   "source": [
    "jeopardy.count()"
   ]
  },
  {
   "cell_type": "code",
   "execution_count": 11,
   "id": "11ed7145",
   "metadata": {},
   "outputs": [],
   "source": [
    "# There are 216930 rows in the dataframe. \n",
    "# Rows here represent each question answer pair asked in every show over a period of time.\n",
    "# Grain is a subset of exisitng data that caters to specific information as required."
   ]
  },
  {
   "cell_type": "markdown",
   "id": "e1cce8d6",
   "metadata": {},
   "source": [
    "#### b. Clean the data. How do you need to “clean” it? What is “dirty” about this data?"
   ]
  },
  {
   "cell_type": "code",
   "execution_count": 21,
   "id": "e2de253d",
   "metadata": {},
   "outputs": [],
   "source": [
    "# Cleaning the data would mean to remove duplicates or ensure the datatyoe in as per the correct format.\n",
    "# In this data fram the Air Date column is a string and needs to be change to datetime format to perform analysis.\n",
    "# Also need to remove whitespaces in front of column names"
   ]
  },
  {
   "cell_type": "markdown",
   "id": "ddca7425",
   "metadata": {},
   "source": [
    "#### c. How many unique shows were there each year?"
   ]
  },
  {
   "cell_type": "code",
   "execution_count": 17,
   "id": "9f2508eb",
   "metadata": {},
   "outputs": [
    {
     "name": "stdout",
     "output_type": "stream",
     "text": [
      "<class 'str'>\n",
      "<class 'pandas._libs.tslibs.timestamps.Timestamp'>\n"
     ]
    },
    {
     "data": {
      "text/html": [
       "<div>\n",
       "<style scoped>\n",
       "    .dataframe tbody tr th:only-of-type {\n",
       "        vertical-align: middle;\n",
       "    }\n",
       "\n",
       "    .dataframe tbody tr th {\n",
       "        vertical-align: top;\n",
       "    }\n",
       "\n",
       "    .dataframe thead th {\n",
       "        text-align: right;\n",
       "    }\n",
       "</style>\n",
       "<table border=\"1\" class=\"dataframe\">\n",
       "  <thead>\n",
       "    <tr style=\"text-align: right;\">\n",
       "      <th></th>\n",
       "      <th>Show Number</th>\n",
       "      <th>Air Date</th>\n",
       "      <th>Round</th>\n",
       "      <th>Category</th>\n",
       "      <th>Value</th>\n",
       "      <th>Question</th>\n",
       "      <th>Answer</th>\n",
       "    </tr>\n",
       "  </thead>\n",
       "  <tbody>\n",
       "    <tr>\n",
       "      <th>0</th>\n",
       "      <td>4680</td>\n",
       "      <td>2004-12-31</td>\n",
       "      <td>Jeopardy!</td>\n",
       "      <td>HISTORY</td>\n",
       "      <td>$200</td>\n",
       "      <td>For the last 8 years of his life, Galileo was ...</td>\n",
       "      <td>Copernicus</td>\n",
       "    </tr>\n",
       "    <tr>\n",
       "      <th>1</th>\n",
       "      <td>4680</td>\n",
       "      <td>2004-12-31</td>\n",
       "      <td>Jeopardy!</td>\n",
       "      <td>ESPN's TOP 10 ALL-TIME ATHLETES</td>\n",
       "      <td>$200</td>\n",
       "      <td>No. 2: 1912 Olympian; football star at Carlisl...</td>\n",
       "      <td>Jim Thorpe</td>\n",
       "    </tr>\n",
       "    <tr>\n",
       "      <th>2</th>\n",
       "      <td>4680</td>\n",
       "      <td>2004-12-31</td>\n",
       "      <td>Jeopardy!</td>\n",
       "      <td>EVERYBODY TALKS ABOUT IT...</td>\n",
       "      <td>$200</td>\n",
       "      <td>The city of Yuma in this state has a record av...</td>\n",
       "      <td>Arizona</td>\n",
       "    </tr>\n",
       "    <tr>\n",
       "      <th>3</th>\n",
       "      <td>4680</td>\n",
       "      <td>2004-12-31</td>\n",
       "      <td>Jeopardy!</td>\n",
       "      <td>THE COMPANY LINE</td>\n",
       "      <td>$200</td>\n",
       "      <td>In 1963, live on \"The Art Linkletter Show\", th...</td>\n",
       "      <td>McDonald's</td>\n",
       "    </tr>\n",
       "    <tr>\n",
       "      <th>4</th>\n",
       "      <td>4680</td>\n",
       "      <td>2004-12-31</td>\n",
       "      <td>Jeopardy!</td>\n",
       "      <td>EPITAPHS &amp; TRIBUTES</td>\n",
       "      <td>$200</td>\n",
       "      <td>Signer of the Dec. of Indep., framer of the Co...</td>\n",
       "      <td>John Adams</td>\n",
       "    </tr>\n",
       "  </tbody>\n",
       "</table>\n",
       "</div>"
      ],
      "text/plain": [
       "   Show Number   Air Date      Round                         Category  Value  \\\n",
       "0         4680 2004-12-31  Jeopardy!                          HISTORY  $200    \n",
       "1         4680 2004-12-31  Jeopardy!  ESPN's TOP 10 ALL-TIME ATHLETES  $200    \n",
       "2         4680 2004-12-31  Jeopardy!      EVERYBODY TALKS ABOUT IT...  $200    \n",
       "3         4680 2004-12-31  Jeopardy!                 THE COMPANY LINE  $200    \n",
       "4         4680 2004-12-31  Jeopardy!              EPITAPHS & TRIBUTES  $200    \n",
       "\n",
       "                                            Question      Answer  \n",
       "0  For the last 8 years of his life, Galileo was ...  Copernicus  \n",
       "1  No. 2: 1912 Olympian; football star at Carlisl...  Jim Thorpe  \n",
       "2  The city of Yuma in this state has a record av...     Arizona  \n",
       "3  In 1963, live on \"The Art Linkletter Show\", th...  McDonald's  \n",
       "4  Signer of the Dec. of Indep., framer of the Co...  John Adams  "
      ]
     },
     "execution_count": 17,
     "metadata": {},
     "output_type": "execute_result"
    }
   ],
   "source": [
    "print(type(jeopardy[\" Air Date\"][0]))\n",
    "\n",
    "jeopardy[\" Air Date\"] = pd.to_datetime(jeopardy[\" Air Date\"])\n",
    "\n",
    "print(type(jeopardy[\" Air Date\"][0]))\n",
    "jeopardy.head()"
   ]
  },
  {
   "cell_type": "code",
   "execution_count": 18,
   "id": "db7559c5",
   "metadata": {},
   "outputs": [
    {
     "data": {
      "text/html": [
       "<div>\n",
       "<style scoped>\n",
       "    .dataframe tbody tr th:only-of-type {\n",
       "        vertical-align: middle;\n",
       "    }\n",
       "\n",
       "    .dataframe tbody tr th {\n",
       "        vertical-align: top;\n",
       "    }\n",
       "\n",
       "    .dataframe thead th {\n",
       "        text-align: right;\n",
       "    }\n",
       "</style>\n",
       "<table border=\"1\" class=\"dataframe\">\n",
       "  <thead>\n",
       "    <tr style=\"text-align: right;\">\n",
       "      <th></th>\n",
       "      <th>Show Number</th>\n",
       "    </tr>\n",
       "    <tr>\n",
       "      <th>year</th>\n",
       "      <th></th>\n",
       "    </tr>\n",
       "  </thead>\n",
       "  <tbody>\n",
       "    <tr>\n",
       "      <th>1984</th>\n",
       "      <td>23</td>\n",
       "    </tr>\n",
       "    <tr>\n",
       "      <th>1985</th>\n",
       "      <td>16</td>\n",
       "    </tr>\n",
       "    <tr>\n",
       "      <th>1986</th>\n",
       "      <td>25</td>\n",
       "    </tr>\n",
       "    <tr>\n",
       "      <th>1987</th>\n",
       "      <td>22</td>\n",
       "    </tr>\n",
       "    <tr>\n",
       "      <th>1988</th>\n",
       "      <td>22</td>\n",
       "    </tr>\n",
       "    <tr>\n",
       "      <th>1989</th>\n",
       "      <td>36</td>\n",
       "    </tr>\n",
       "    <tr>\n",
       "      <th>1990</th>\n",
       "      <td>73</td>\n",
       "    </tr>\n",
       "    <tr>\n",
       "      <th>1991</th>\n",
       "      <td>24</td>\n",
       "    </tr>\n",
       "    <tr>\n",
       "      <th>1992</th>\n",
       "      <td>32</td>\n",
       "    </tr>\n",
       "    <tr>\n",
       "      <th>1993</th>\n",
       "      <td>35</td>\n",
       "    </tr>\n",
       "  </tbody>\n",
       "</table>\n",
       "</div>"
      ],
      "text/plain": [
       "      Show Number\n",
       "year             \n",
       "1984           23\n",
       "1985           16\n",
       "1986           25\n",
       "1987           22\n",
       "1988           22\n",
       "1989           36\n",
       "1990           73\n",
       "1991           24\n",
       "1992           32\n",
       "1993           35"
      ]
     },
     "execution_count": 18,
     "metadata": {},
     "output_type": "execute_result"
    }
   ],
   "source": [
    "jeopardy[\"year\"] = pd.DatetimeIndex(jeopardy[\" Air Date\"]).year\n",
    "\n",
    "jeopardy_grp_by_year = jeopardy.groupby(\"year\")\n",
    "\n",
    "jeopardy_show_per_year = jeopardy_grp_by_year[[\"Show Number\"]].nunique()\n",
    "\n",
    "jeopardy_show_per_year.head(10)"
   ]
  },
  {
   "cell_type": "markdown",
   "id": "26c475d4",
   "metadata": {},
   "source": [
    "#### d. How many times was each category used?"
   ]
  },
  {
   "cell_type": "code",
   "execution_count": 22,
   "id": "7f892b3b",
   "metadata": {},
   "outputs": [
    {
     "data": {
      "text/plain": [
       " Category             \n",
       "BEFORE & AFTER            547\n",
       "SCIENCE                   519\n",
       "LITERATURE                496\n",
       "AMERICAN HISTORY          418\n",
       "POTPOURRI                 401\n",
       "                         ... \n",
       "FOREIGN-BORN INVENTORS      1\n",
       "WORD HISTORIES              1\n",
       "FOREIGN WARS                1\n",
       "HISTORIC NAMESAKES          1\n",
       "U.S. GEOLOGY                1\n",
       "Length: 27983, dtype: int64"
      ]
     },
     "execution_count": 22,
     "metadata": {},
     "output_type": "execute_result"
    }
   ],
   "source": [
    "jeopardy[[\" Category\"]].value_counts()"
   ]
  },
  {
   "cell_type": "markdown",
   "id": "3b3f2f35",
   "metadata": {},
   "source": [
    "#### e. Which month (over the years) has had the most shows?"
   ]
  },
  {
   "cell_type": "code",
   "execution_count": 42,
   "id": "bfdcbf5d",
   "metadata": {},
   "outputs": [
    {
     "data": {
      "text/html": [
       "<div>\n",
       "<style scoped>\n",
       "    .dataframe tbody tr th:only-of-type {\n",
       "        vertical-align: middle;\n",
       "    }\n",
       "\n",
       "    .dataframe tbody tr th {\n",
       "        vertical-align: top;\n",
       "    }\n",
       "\n",
       "    .dataframe thead th {\n",
       "        text-align: right;\n",
       "    }\n",
       "</style>\n",
       "<table border=\"1\" class=\"dataframe\">\n",
       "  <thead>\n",
       "    <tr style=\"text-align: right;\">\n",
       "      <th></th>\n",
       "      <th>Show Number</th>\n",
       "      <th>Air Date</th>\n",
       "      <th>Round</th>\n",
       "      <th>Category</th>\n",
       "      <th>Value</th>\n",
       "      <th>Question</th>\n",
       "      <th>Answer</th>\n",
       "      <th>month</th>\n",
       "    </tr>\n",
       "  </thead>\n",
       "  <tbody>\n",
       "    <tr>\n",
       "      <th>0</th>\n",
       "      <td>4680</td>\n",
       "      <td>2004-12-31</td>\n",
       "      <td>Jeopardy!</td>\n",
       "      <td>HISTORY</td>\n",
       "      <td>$200</td>\n",
       "      <td>For the last 8 years of his life, Galileo was ...</td>\n",
       "      <td>Copernicus</td>\n",
       "      <td>12</td>\n",
       "    </tr>\n",
       "    <tr>\n",
       "      <th>1</th>\n",
       "      <td>4680</td>\n",
       "      <td>2004-12-31</td>\n",
       "      <td>Jeopardy!</td>\n",
       "      <td>ESPN's TOP 10 ALL-TIME ATHLETES</td>\n",
       "      <td>$200</td>\n",
       "      <td>No. 2: 1912 Olympian; football star at Carlisl...</td>\n",
       "      <td>Jim Thorpe</td>\n",
       "      <td>12</td>\n",
       "    </tr>\n",
       "    <tr>\n",
       "      <th>2</th>\n",
       "      <td>4680</td>\n",
       "      <td>2004-12-31</td>\n",
       "      <td>Jeopardy!</td>\n",
       "      <td>EVERYBODY TALKS ABOUT IT...</td>\n",
       "      <td>$200</td>\n",
       "      <td>The city of Yuma in this state has a record av...</td>\n",
       "      <td>Arizona</td>\n",
       "      <td>12</td>\n",
       "    </tr>\n",
       "    <tr>\n",
       "      <th>3</th>\n",
       "      <td>4680</td>\n",
       "      <td>2004-12-31</td>\n",
       "      <td>Jeopardy!</td>\n",
       "      <td>THE COMPANY LINE</td>\n",
       "      <td>$200</td>\n",
       "      <td>In 1963, live on \"The Art Linkletter Show\", th...</td>\n",
       "      <td>McDonald's</td>\n",
       "      <td>12</td>\n",
       "    </tr>\n",
       "    <tr>\n",
       "      <th>4</th>\n",
       "      <td>4680</td>\n",
       "      <td>2004-12-31</td>\n",
       "      <td>Jeopardy!</td>\n",
       "      <td>EPITAPHS &amp; TRIBUTES</td>\n",
       "      <td>$200</td>\n",
       "      <td>Signer of the Dec. of Indep., framer of the Co...</td>\n",
       "      <td>John Adams</td>\n",
       "      <td>12</td>\n",
       "    </tr>\n",
       "  </tbody>\n",
       "</table>\n",
       "</div>"
      ],
      "text/plain": [
       "   Show Number   Air Date      Round                         Category  Value  \\\n",
       "0         4680 2004-12-31  Jeopardy!                          HISTORY  $200    \n",
       "1         4680 2004-12-31  Jeopardy!  ESPN's TOP 10 ALL-TIME ATHLETES  $200    \n",
       "2         4680 2004-12-31  Jeopardy!      EVERYBODY TALKS ABOUT IT...  $200    \n",
       "3         4680 2004-12-31  Jeopardy!                 THE COMPANY LINE  $200    \n",
       "4         4680 2004-12-31  Jeopardy!              EPITAPHS & TRIBUTES  $200    \n",
       "\n",
       "                                            Question      Answer  month  \n",
       "0  For the last 8 years of his life, Galileo was ...  Copernicus     12  \n",
       "1  No. 2: 1912 Olympian; football star at Carlisl...  Jim Thorpe     12  \n",
       "2  The city of Yuma in this state has a record av...     Arizona     12  \n",
       "3  In 1963, live on \"The Art Linkletter Show\", th...  McDonald's     12  \n",
       "4  Signer of the Dec. of Indep., framer of the Co...  John Adams     12  "
      ]
     },
     "execution_count": 42,
     "metadata": {},
     "output_type": "execute_result"
    }
   ],
   "source": [
    "jeopardy[\"month\"] = pd.DatetimeIndex(jeopardy[\" Air Date\"]).month\n"
   ]
  },
  {
   "cell_type": "code",
   "execution_count": 87,
   "id": "94435c21",
   "metadata": {},
   "outputs": [
    {
     "data": {
      "text/html": [
       "<div>\n",
       "<style scoped>\n",
       "    .dataframe tbody tr th:only-of-type {\n",
       "        vertical-align: middle;\n",
       "    }\n",
       "\n",
       "    .dataframe tbody tr th {\n",
       "        vertical-align: top;\n",
       "    }\n",
       "\n",
       "    .dataframe thead th {\n",
       "        text-align: right;\n",
       "    }\n",
       "</style>\n",
       "<table border=\"1\" class=\"dataframe\">\n",
       "  <thead>\n",
       "    <tr style=\"text-align: right;\">\n",
       "      <th></th>\n",
       "      <th>Show Number</th>\n",
       "    </tr>\n",
       "    <tr>\n",
       "      <th>month</th>\n",
       "      <th></th>\n",
       "    </tr>\n",
       "  </thead>\n",
       "  <tbody>\n",
       "    <tr>\n",
       "      <th>11</th>\n",
       "      <td>434</td>\n",
       "    </tr>\n",
       "    <tr>\n",
       "      <th>1</th>\n",
       "      <td>355</td>\n",
       "    </tr>\n",
       "    <tr>\n",
       "      <th>12</th>\n",
       "      <td>352</td>\n",
       "    </tr>\n",
       "    <tr>\n",
       "      <th>5</th>\n",
       "      <td>351</td>\n",
       "    </tr>\n",
       "    <tr>\n",
       "      <th>10</th>\n",
       "      <td>347</td>\n",
       "    </tr>\n",
       "    <tr>\n",
       "      <th>4</th>\n",
       "      <td>330</td>\n",
       "    </tr>\n",
       "    <tr>\n",
       "      <th>3</th>\n",
       "      <td>329</td>\n",
       "    </tr>\n",
       "    <tr>\n",
       "      <th>6</th>\n",
       "      <td>321</td>\n",
       "    </tr>\n",
       "    <tr>\n",
       "      <th>2</th>\n",
       "      <td>293</td>\n",
       "    </tr>\n",
       "    <tr>\n",
       "      <th>9</th>\n",
       "      <td>272</td>\n",
       "    </tr>\n",
       "    <tr>\n",
       "      <th>7</th>\n",
       "      <td>256</td>\n",
       "    </tr>\n",
       "  </tbody>\n",
       "</table>\n",
       "</div>"
      ],
      "text/plain": [
       "       Show Number\n",
       "month             \n",
       "11             434\n",
       "1              355\n",
       "12             352\n",
       "5              351\n",
       "10             347\n",
       "4              330\n",
       "3              329\n",
       "6              321\n",
       "2              293\n",
       "9              272\n",
       "7              256"
      ]
     },
     "execution_count": 87,
     "metadata": {},
     "output_type": "execute_result"
    }
   ],
   "source": [
    "jeopardy_grp_by_month = jeopardy.groupby(\"month\")\n",
    "jeopardy_show_per_month = jeopardy_grp_by_month[[\"Show Number\"]].nunique()\n",
    "jeopardy_show_per_month.sort_values(\"Show Number\",ascending=False)"
   ]
  },
  {
   "cell_type": "code",
   "execution_count": null,
   "id": "cdba254f",
   "metadata": {},
   "outputs": [],
   "source": [
    "# November had the most no. of shows over the years"
   ]
  },
  {
   "cell_type": "markdown",
   "id": "ba9c5350",
   "metadata": {},
   "source": [
    "#### f. Are there any answers that appeared multiple times? Find the questions for the top three most common answers"
   ]
  },
  {
   "cell_type": "code",
   "execution_count": 89,
   "id": "82731f7c",
   "metadata": {},
   "outputs": [
    {
     "data": {
      "text/plain": [
       "China                             216\n",
       "Australia                         215\n",
       "Japan                             196\n",
       "Chicago                           194\n",
       "France                            193\n",
       "                                 ... \n",
       "the Hopis                           1\n",
       "free parking                        1\n",
       "Lady Diana Spencer                  1\n",
       "trailer park                        1\n",
       "Grigori Alexandrovich Potemkin      1\n",
       "Name:  Answer, Length: 88236, dtype: int64"
      ]
     },
     "execution_count": 89,
     "metadata": {},
     "output_type": "execute_result"
    }
   ],
   "source": [
    "jeopardy[\" Answer\"].value_counts()"
   ]
  },
  {
   "cell_type": "code",
   "execution_count": 90,
   "id": "abc4092c",
   "metadata": {},
   "outputs": [
    {
     "data": {
      "text/html": [
       "<div>\n",
       "<style scoped>\n",
       "    .dataframe tbody tr th:only-of-type {\n",
       "        vertical-align: middle;\n",
       "    }\n",
       "\n",
       "    .dataframe tbody tr th {\n",
       "        vertical-align: top;\n",
       "    }\n",
       "\n",
       "    .dataframe thead th {\n",
       "        text-align: right;\n",
       "    }\n",
       "</style>\n",
       "<table border=\"1\" class=\"dataframe\">\n",
       "  <thead>\n",
       "    <tr style=\"text-align: right;\">\n",
       "      <th></th>\n",
       "      <th>Question</th>\n",
       "    </tr>\n",
       "  </thead>\n",
       "  <tbody>\n",
       "    <tr>\n",
       "      <th>598</th>\n",
       "      <td>In 1958 this country launched its second 5-yea...</td>\n",
       "    </tr>\n",
       "    <tr>\n",
       "      <th>1507</th>\n",
       "      <td>In 1999 this country began 3 \"golden weeks\" of...</td>\n",
       "    </tr>\n",
       "    <tr>\n",
       "      <th>3050</th>\n",
       "      <td>P.F. Chang's is an upscale bistro specializing...</td>\n",
       "    </tr>\n",
       "    <tr>\n",
       "      <th>3476</th>\n",
       "      <td>This country's National People's Congress has ...</td>\n",
       "    </tr>\n",
       "    <tr>\n",
       "      <th>5990</th>\n",
       "      <td>Of the 6 nations India borders, this one is th...</td>\n",
       "    </tr>\n",
       "    <tr>\n",
       "      <th>...</th>\n",
       "      <td>...</td>\n",
       "    </tr>\n",
       "    <tr>\n",
       "      <th>214506</th>\n",
       "      <td>Principal mountain ranges in this large countr...</td>\n",
       "    </tr>\n",
       "    <tr>\n",
       "      <th>215115</th>\n",
       "      <td>Dr. Sun Yat-Sen</td>\n",
       "    </tr>\n",
       "    <tr>\n",
       "      <th>215556</th>\n",
       "      <td>Tsingtao</td>\n",
       "    </tr>\n",
       "    <tr>\n",
       "      <th>215912</th>\n",
       "      <td>Because of a policy adopted in 1979, this coun...</td>\n",
       "    </tr>\n",
       "    <tr>\n",
       "      <th>216150</th>\n",
       "      <td>Colorful patches called p'u-fang used to indic...</td>\n",
       "    </tr>\n",
       "  </tbody>\n",
       "</table>\n",
       "<p>216 rows × 1 columns</p>\n",
       "</div>"
      ],
      "text/plain": [
       "                                                 Question\n",
       "598     In 1958 this country launched its second 5-yea...\n",
       "1507    In 1999 this country began 3 \"golden weeks\" of...\n",
       "3050    P.F. Chang's is an upscale bistro specializing...\n",
       "3476    This country's National People's Congress has ...\n",
       "5990    Of the 6 nations India borders, this one is th...\n",
       "...                                                   ...\n",
       "214506  Principal mountain ranges in this large countr...\n",
       "215115                                    Dr. Sun Yat-Sen\n",
       "215556                                           Tsingtao\n",
       "215912  Because of a policy adopted in 1979, this coun...\n",
       "216150  Colorful patches called p'u-fang used to indic...\n",
       "\n",
       "[216 rows x 1 columns]"
      ]
     },
     "execution_count": 90,
     "metadata": {},
     "output_type": "execute_result"
    }
   ],
   "source": [
    "jeopardy[jeopardy[\" Answer\"]==\"China\"][[\" Question\"]]"
   ]
  },
  {
   "cell_type": "code",
   "execution_count": 91,
   "id": "286853ba",
   "metadata": {},
   "outputs": [
    {
     "data": {
      "text/html": [
       "<div>\n",
       "<style scoped>\n",
       "    .dataframe tbody tr th:only-of-type {\n",
       "        vertical-align: middle;\n",
       "    }\n",
       "\n",
       "    .dataframe tbody tr th {\n",
       "        vertical-align: top;\n",
       "    }\n",
       "\n",
       "    .dataframe thead th {\n",
       "        text-align: right;\n",
       "    }\n",
       "</style>\n",
       "<table border=\"1\" class=\"dataframe\">\n",
       "  <thead>\n",
       "    <tr style=\"text-align: right;\">\n",
       "      <th></th>\n",
       "      <th>Question</th>\n",
       "    </tr>\n",
       "  </thead>\n",
       "  <tbody>\n",
       "    <tr>\n",
       "      <th>560</th>\n",
       "      <td>A 1994 festival honoring this country featured...</td>\n",
       "    </tr>\n",
       "    <tr>\n",
       "      <th>688</th>\n",
       "      <td>Large aboriginal populations live in this coun...</td>\n",
       "    </tr>\n",
       "    <tr>\n",
       "      <th>1236</th>\n",
       "      <td>Papua New Guinea is just off this country's Ca...</td>\n",
       "    </tr>\n",
       "    <tr>\n",
       "      <th>3175</th>\n",
       "      <td>In 1962 this country's Dawn Fraser became the ...</td>\n",
       "    </tr>\n",
       "    <tr>\n",
       "      <th>4373</th>\n",
       "      <td>It's the lowest, flattest &amp; smallest continent</td>\n",
       "    </tr>\n",
       "    <tr>\n",
       "      <th>...</th>\n",
       "      <td>...</td>\n",
       "    </tr>\n",
       "    <tr>\n",
       "      <th>212513</th>\n",
       "      <td>The good folk at gdaypubs.com are making a maj...</td>\n",
       "    </tr>\n",
       "    <tr>\n",
       "      <th>212711</th>\n",
       "      <td>Eons of wind &amp; rain have worn away ancient mtn...</td>\n",
       "    </tr>\n",
       "    <tr>\n",
       "      <th>213583</th>\n",
       "      <td>Dedicated to upholding this nation's constitut...</td>\n",
       "    </tr>\n",
       "    <tr>\n",
       "      <th>214876</th>\n",
       "      <td>If you stay at Cradle Mountain Lodge in this c...</td>\n",
       "    </tr>\n",
       "    <tr>\n",
       "      <th>216044</th>\n",
       "      <td>Norfolk Island &amp; the Republic of Kiribati use ...</td>\n",
       "    </tr>\n",
       "  </tbody>\n",
       "</table>\n",
       "<p>215 rows × 1 columns</p>\n",
       "</div>"
      ],
      "text/plain": [
       "                                                 Question\n",
       "560     A 1994 festival honoring this country featured...\n",
       "688     Large aboriginal populations live in this coun...\n",
       "1236    Papua New Guinea is just off this country's Ca...\n",
       "3175    In 1962 this country's Dawn Fraser became the ...\n",
       "4373       It's the lowest, flattest & smallest continent\n",
       "...                                                   ...\n",
       "212513  The good folk at gdaypubs.com are making a maj...\n",
       "212711  Eons of wind & rain have worn away ancient mtn...\n",
       "213583  Dedicated to upholding this nation's constitut...\n",
       "214876  If you stay at Cradle Mountain Lodge in this c...\n",
       "216044  Norfolk Island & the Republic of Kiribati use ...\n",
       "\n",
       "[215 rows x 1 columns]"
      ]
     },
     "execution_count": 91,
     "metadata": {},
     "output_type": "execute_result"
    }
   ],
   "source": [
    "jeopardy[jeopardy[\" Answer\"]==\"Australia\"][[\" Question\"]]"
   ]
  },
  {
   "cell_type": "code",
   "execution_count": 92,
   "id": "9305f4cc",
   "metadata": {},
   "outputs": [
    {
     "data": {
      "text/html": [
       "<div>\n",
       "<style scoped>\n",
       "    .dataframe tbody tr th:only-of-type {\n",
       "        vertical-align: middle;\n",
       "    }\n",
       "\n",
       "    .dataframe tbody tr th {\n",
       "        vertical-align: top;\n",
       "    }\n",
       "\n",
       "    .dataframe thead th {\n",
       "        text-align: right;\n",
       "    }\n",
       "</style>\n",
       "<table border=\"1\" class=\"dataframe\">\n",
       "  <thead>\n",
       "    <tr style=\"text-align: right;\">\n",
       "      <th></th>\n",
       "      <th>Question</th>\n",
       "    </tr>\n",
       "  </thead>\n",
       "  <tbody>\n",
       "    <tr>\n",
       "      <th>404</th>\n",
       "      <td>In February 1904 this country attacked the Rus...</td>\n",
       "    </tr>\n",
       "    <tr>\n",
       "      <th>874</th>\n",
       "      <td>Sanma aisu is fish-flavored ice cream &amp; taco a...</td>\n",
       "    </tr>\n",
       "    <tr>\n",
       "      <th>1864</th>\n",
       "      <td>The monster seen here (Godzilla) originally ap...</td>\n",
       "    </tr>\n",
       "    <tr>\n",
       "      <th>3106</th>\n",
       "      <td>The mauve flowers of the Paulownia tree adorn ...</td>\n",
       "    </tr>\n",
       "    <tr>\n",
       "      <th>4080</th>\n",
       "      <td>This country's 12th century sculptor Unkei is ...</td>\n",
       "    </tr>\n",
       "    <tr>\n",
       "      <th>...</th>\n",
       "      <td>...</td>\n",
       "    </tr>\n",
       "    <tr>\n",
       "      <th>211129</th>\n",
       "      <td>On Feb. 8, 1904 this country attacked Port Art...</td>\n",
       "    </tr>\n",
       "    <tr>\n",
       "      <th>214711</th>\n",
       "      <td>This nation's maritime self-defense force, suc...</td>\n",
       "    </tr>\n",
       "    <tr>\n",
       "      <th>215513</th>\n",
       "      <td>On July 8, 1853 Matthew Perry presented a lett...</td>\n",
       "    </tr>\n",
       "    <tr>\n",
       "      <th>215568</th>\n",
       "      <td>Kirin</td>\n",
       "    </tr>\n",
       "    <tr>\n",
       "      <th>216660</th>\n",
       "      <td>In Asia: Prime Minister Junichiro Koizumi</td>\n",
       "    </tr>\n",
       "  </tbody>\n",
       "</table>\n",
       "<p>196 rows × 1 columns</p>\n",
       "</div>"
      ],
      "text/plain": [
       "                                                 Question\n",
       "404     In February 1904 this country attacked the Rus...\n",
       "874     Sanma aisu is fish-flavored ice cream & taco a...\n",
       "1864    The monster seen here (Godzilla) originally ap...\n",
       "3106    The mauve flowers of the Paulownia tree adorn ...\n",
       "4080    This country's 12th century sculptor Unkei is ...\n",
       "...                                                   ...\n",
       "211129  On Feb. 8, 1904 this country attacked Port Art...\n",
       "214711  This nation's maritime self-defense force, suc...\n",
       "215513  On July 8, 1853 Matthew Perry presented a lett...\n",
       "215568                                              Kirin\n",
       "216660          In Asia: Prime Minister Junichiro Koizumi\n",
       "\n",
       "[196 rows x 1 columns]"
      ]
     },
     "execution_count": 92,
     "metadata": {},
     "output_type": "execute_result"
    }
   ],
   "source": [
    "jeopardy[jeopardy[\" Answer\"]==\"Japan\"][[\" Question\"]]"
   ]
  },
  {
   "cell_type": "markdown",
   "id": "43890cb6",
   "metadata": {},
   "source": [
    "### 2. Create a visualization that shows the top 5 categories (those referenced the most often). Be sure to label appropriately"
   ]
  },
  {
   "cell_type": "code",
   "execution_count": 93,
   "id": "4849d54b",
   "metadata": {},
   "outputs": [],
   "source": [
    "jeopardy_top_5_cat = jeopardy[[\" Category\"]].value_counts().head()"
   ]
  },
  {
   "cell_type": "code",
   "execution_count": 94,
   "id": "ca8e82c5",
   "metadata": {},
   "outputs": [
    {
     "data": {
      "text/plain": [
       " Category       \n",
       "BEFORE & AFTER      547\n",
       "SCIENCE             519\n",
       "LITERATURE          496\n",
       "AMERICAN HISTORY    418\n",
       "POTPOURRI           401\n",
       "dtype: int64"
      ]
     },
     "execution_count": 94,
     "metadata": {},
     "output_type": "execute_result"
    }
   ],
   "source": [
    "jeopardy_top_5_cat.head()"
   ]
  },
  {
   "cell_type": "code",
   "execution_count": 95,
   "id": "5d7e50b5",
   "metadata": {},
   "outputs": [],
   "source": [
    "jeopardy_top_5_cat_df = pd.DataFrame(jeopardy_top_5_cat)"
   ]
  },
  {
   "cell_type": "code",
   "execution_count": 96,
   "id": "30345e9c",
   "metadata": {},
   "outputs": [],
   "source": [
    "#jeopardy_top_5_cat_df[\"Count\"] "
   ]
  },
  {
   "cell_type": "code",
   "execution_count": 97,
   "id": "d2376b5f",
   "metadata": {},
   "outputs": [
    {
     "data": {
      "image/png": "[encoded data removed]",
      "text/plain": [
       "<Figure size 432x288 with 1 Axes>"
      ]
     },
     "metadata": {
      "needs_background": "light"
     },
     "output_type": "display_data"
    }
   ],
   "source": [
    "jeopardy_top_5_cat.plot(kind='bar', ylabel=\"Questions per category\", title = \"Top 5 categories reference often\")\n",
    "\n",
    "\n",
    "plt.show()"
   ]
  }
 ],
 "metadata": {
  "kernelspec": {
   "display_name": "Python 3 (ipykernel)",
   "language": "python",
   "name": "python3"
  },
  "language_info": {
   "codemirror_mode": {
    "name": "ipython",
    "version": 3
   },
   "file_extension": ".py",
   "mimetype": "text/x-python",
   "name": "python",
   "nbconvert_exporter": "python",
   "pygments_lexer": "ipython3",
   "version": "3.8.10"
  }
 },
 "nbformat": 4,
 "nbformat_minor": 5
}
